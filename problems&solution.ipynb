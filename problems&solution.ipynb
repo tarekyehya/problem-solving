{
  "nbformat": 4,
  "nbformat_minor": 0,
  "metadata": {
    "colab": {
      "name": "Untitled6.ipynb",
      "provenance": [],
      "authorship_tag": "ABX9TyNo9hzdqCgiF+hC/p3iQhYY",
      "include_colab_link": true
    },
    "kernelspec": {
      "name": "python3",
      "display_name": "Python 3"
    },
    "language_info": {
      "name": "python"
    }
  },
  "cells": [
    {
      "cell_type": "markdown",
      "metadata": {
        "id": "view-in-github",
        "colab_type": "text"
      },
      "source": [
        "<a href=\"https://colab.research.google.com/github/tarekyehya/problem-solving/blob/main/problems%26solution.ipynb\" target=\"_parent\"><img src=\"https://colab.research.google.com/assets/colab-badge.svg\" alt=\"Open In Colab\"/></a>"
      ]
    },
    {
      "cell_type": "markdown",
      "metadata": {
        "id": "K_5kLf-lqypu"
      },
      "source": [
        "**problem**\n",
        "- Problem - 263A - Codeforces"
      ]
    },
    {
      "cell_type": "code",
      "metadata": {
        "colab": {
          "base_uri": "https://localhost:8080/"
        },
        "id": "-zuNiWmoqvMM",
        "outputId": "30023bbc-2ec0-4bcf-e0ae-e03777c5c31b"
      },
      "source": [
        "for i in range(1,6):\n",
        "    a = []\n",
        "    a = list(map(int,input().split()))\n",
        "    if sum(a) == 1 :\n",
        "        for j in range(1,6):\n",
        "            if a[j-1] == 1:\n",
        "                output = abs(3 - i) + abs(3 - j)\n",
        "        \n",
        "print(output)    \n"
      ],
      "execution_count": 1,
      "outputs": [
        {
          "output_type": "stream",
          "name": "stdout",
          "text": [
            "0 0 0 0 0\n",
            "0 0 0 0 0\n",
            "0 1 0 0 0 \n",
            "0 0 0 0 0\n",
            "0 0 0 0 0\n",
            "1\n"
          ]
        }
      ]
    },
    {
      "cell_type": "markdown",
      "metadata": {
        "id": "YfKZ90aAs_mU"
      },
      "source": [
        "**accepted**"
      ]
    },
    {
      "cell_type": "markdown",
      "metadata": {
        "id": "SK7y1G2vtiH_"
      },
      "source": [
        "\n",
        "\n",
        "*   231A - Codeforces\n",
        "\n",
        "\n"
      ]
    },
    {
      "cell_type": "code",
      "metadata": {
        "colab": {
          "base_uri": "https://localhost:8080/"
        },
        "id": "iJuIkIdStf4_",
        "outputId": "123bbef9-4635-4d0d-d44d-d01c542bcdf9"
      },
      "source": [
        "output = 0\n",
        "# take input\n",
        "rows = int(input())\n",
        "#rows = 3\n",
        "for i in range(rows):\n",
        "    a = []\n",
        "    a = list(map(int,input().split()))\n",
        "    if sum(a) > 1 :\n",
        "        output = output + 1\n",
        "\n",
        "print(output)    \n"
      ],
      "execution_count": 5,
      "outputs": [
        {
          "output_type": "stream",
          "name": "stdout",
          "text": [
            "3\n",
            "1 1 0\n",
            "1 1 1\n",
            "1 0 0\n",
            "2\n"
          ]
        }
      ]
    },
    {
      "cell_type": "markdown",
      "metadata": {
        "id": "8tIRT1nHuWta"
      },
      "source": [
        "**accepted**"
      ]
    },
    {
      "cell_type": "markdown",
      "metadata": {
        "id": "CnUVyf1lutrP"
      },
      "source": [
        "\n",
        "\n",
        "*   Problem - 791A - Codeforces\n",
        "\n"
      ]
    },
    {
      "cell_type": "code",
      "metadata": {
        "colab": {
          "base_uri": "https://localhost:8080/"
        },
        "id": "RjV7qTPRuw2B",
        "outputId": "a1bf90c4-37cb-49ed-a9f9-3e09ffc4fa91"
      },
      "source": [
        "w1,w2 = map(int, input().split())\n",
        "\n",
        "\n",
        "if w1 > w2 :\n",
        "    print(0)\n",
        "elif w1 == w2:\n",
        "    print(1)\n",
        "else:\n",
        "    for i in range(1,10):\n",
        "        w1 = 3 * w1\n",
        "        w2 = 2 * w2\n",
        "        if w1 > w2:\n",
        "            print(i)\n",
        "            break\n",
        "\n",
        "    "
      ],
      "execution_count": 6,
      "outputs": [
        {
          "output_type": "stream",
          "name": "stdout",
          "text": [
            "4 7\n",
            "2\n"
          ]
        }
      ]
    },
    {
      "cell_type": "markdown",
      "metadata": {
        "id": "UkOWohVdu8Ow"
      },
      "source": [
        "**accepted**"
      ]
    },
    {
      "cell_type": "code",
      "metadata": {
        "id": "wmRiSFERvA1T"
      },
      "source": [
        ""
      ],
      "execution_count": null,
      "outputs": []
    }
  ]
}